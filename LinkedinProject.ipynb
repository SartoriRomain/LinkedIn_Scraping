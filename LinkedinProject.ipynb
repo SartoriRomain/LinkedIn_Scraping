{
 "cells": [
  {
   "cell_type": "markdown",
   "metadata": {},
   "source": []
  },
  {
   "cell_type": "code",
   "execution_count": 2,
   "metadata": {},
   "outputs": [],
   "source": [
    "# import several packages\n",
    "import pandas as pd\n",
    "from bs4 import BeautifulSoup\n",
    "from tqdm import tqdm\n",
    "import requests\n",
    "import re\n",
    "import os\n",
    "import time\n",
    "from selenium import webdriver\n",
    "from selenium.webdriver.common.keys import Keys\n",
    "from selenium.webdriver.common.by import By\n",
    "from selenium.webdriver.support.ui import WebDriverWait\n",
    "from selenium.webdriver.support import expected_conditions as EC\n"
   ]
  },
  {
   "cell_type": "code",
   "execution_count": 3,
   "metadata": {},
   "outputs": [
    {
     "name": "stdout",
     "output_type": "stream",
     "text": [
      "Not needed\n",
      "Not needed\n"
     ]
    }
   ],
   "source": [
    "# choose one of the driver to your liking \n",
    "#driver = webdriver.Edge()\n",
    "#driver = webdriver.Firefox()\n",
    "driver = webdriver.Chrome()\n",
    "\n",
    "driver.get(\"https://www.linkedin.com/feed/\")\n",
    "\n",
    "\n",
    "\n",
    "#For windows users Edge is fine"
   ]
  },
  {
   "cell_type": "code",
   "execution_count": 4,
   "metadata": {},
   "outputs": [
    {
     "name": "stdout",
     "output_type": "stream",
     "text": [
      "Cookies acceptés.\n"
     ]
    }
   ],
   "source": [
    "#Accept cookies (if needed)\n",
    "try:\n",
    "    accept_cookies_button = driver.find_element(By.XPATH, '/html/body/div[1]/main/div[1]/div/section/div/div[2]/button[1]')\n",
    "    accept_cookies_button.click()\n",
    "    print(\"Cookies acceptés.\")\n",
    "except:\n",
    "    print(\"Le bouton pour accepter les cookies n'a pas été trouvé.\")\n"
   ]
  },
  {
   "cell_type": "code",
   "execution_count": 5,
   "metadata": {},
   "outputs": [],
   "source": [
    "#temporary account we created for the project\n",
    "#Copies password and username\n",
    "linkedin_username = 'frezard.poolo@gmail.com'\n",
    "linkedin_password = 'MasterDS2E'"
   ]
  },
  {
   "cell_type": "code",
   "execution_count": 6,
   "metadata": {},
   "outputs": [],
   "source": [
    "#Paste username and the password\n",
    "email_input = driver.find_element(By.ID, 'username')\n",
    "email_input.send_keys(linkedin_username)\n",
    "password_input = driver.find_element(By.ID, 'password')\n",
    "password_input.send_keys(linkedin_password)"
   ]
  },
  {
   "cell_type": "code",
   "execution_count": 7,
   "metadata": {},
   "outputs": [],
   "source": [
    "password_input.send_keys(Keys.RETURN)"
   ]
  },
  {
   "cell_type": "code",
   "execution_count": 17,
   "metadata": {},
   "outputs": [
    {
     "name": "stdout",
     "output_type": "stream",
     "text": [
      "Wasn't needed\n"
     ]
    }
   ],
   "source": [
    "#click some other button\n",
    "try:\n",
    "    accept_cookies_button = driver.find_element(By.XPATH, '/html/body/div[5]/div[3]/div[2]/footer/div/div[1]/button')\n",
    "    accept_cookies_button.click()\n",
    "    print(\"Job done!\")\n",
    "except:\n",
    "    print(\"Wasn't needed\")"
   ]
  },
  {
   "cell_type": "code",
   "execution_count": 18,
   "metadata": {},
   "outputs": [],
   "source": [
    "#Clicking on the search bar\n",
    "#search_bar = driver.find_element(By.CLASS_NAME, 'search-global-typeahead__input')\n",
    "#search_bar.click()  \n",
    "#Searching for data science \n",
    "#search_query = 'Data Scientist'\n",
    "#search_bar.send_keys(search_query)\n",
    "#time.sleep(1)\n",
    "#search_bar.send_keys(Keys.RETURN)\n"
   ]
  },
  {
   "cell_type": "code",
   "execution_count": 21,
   "metadata": {},
   "outputs": [],
   "source": [
    "#Same us as the previous code, you might not want to run it if you ran the one above.\n",
    "def search_for_query(driver, query):\n",
    "    # Attente explicite pour que l'élément soit interactif\n",
    "    search_bar = WebDriverWait(driver, 10).until(\n",
    "        EC.element_to_be_clickable((By.CLASS_NAME, 'search-global-typeahead__input'))\n",
    "    )\n",
    "    search_bar.click()\n",
    "    search_bar.send_keys(query)\n",
    "    time.sleep(1)\n",
    "    search_bar.send_keys(Keys.RETURN)\n",
    "\n",
    "search_query = 'Data Scientist'\n",
    "search_for_query(driver, search_query)"
   ]
  },
  {
   "cell_type": "code",
   "execution_count": 22,
   "metadata": {},
   "outputs": [],
   "source": [
    "#CLick on show all job results def search_for_query(driver, query):\n",
    "All_results = WebDriverWait(driver, 10).until(\n",
    "        EC.element_to_be_clickable((By.XPATH, '/html/body/div[6]/div[3]/div[2]/div/div[1]/main/div/div/div[1]/div/div[2]/a')))\n",
    "All_results.click()\n",
    "   "
   ]
  },
  {
   "cell_type": "code",
   "execution_count": 23,
   "metadata": {},
   "outputs": [],
   "source": [
    "#Select the most recent offers\n",
    "Date_posted = WebDriverWait(driver, 10).until(\n",
    "        EC.element_to_be_clickable((By.XPATH, '/html/body/div[6]/div[3]/div[4]/section/div/section/div/div/div/ul/li[3]/div/span/button')))\n",
    "Date_posted.click()\n",
    "time.sleep(1)\n",
    "\n",
    "Latest_offers = WebDriverWait(driver, 10).until(\n",
    "        EC.element_to_be_clickable((By.XPATH, '/html/body/div[6]/div[3]/div[4]/section/div/section/div/div/div/ul/li[3]/div/div/div/div[1]/div/form/fieldset/div[1]/ul/li[4]/label/p/span[1]')))\n",
    "Latest_offers.click()\n",
    "time.sleep(1)\n",
    "\n",
    "Validate = WebDriverWait(driver, 10).until(\n",
    "        EC.element_to_be_clickable((By.XPATH, '/html/body/div[6]/div[3]/div[4]/section/div/section/div/div/div/ul/li[3]/div/div/div/div[1]/div/form/fieldset/div[2]/button[2]/span')))\n",
    "Validate.click()\n",
    "\n"
   ]
  },
  {
   "cell_type": "code",
   "execution_count": 36,
   "metadata": {},
   "outputs": [],
   "source": [
    "#Select Internship Level\n",
    "Experience_level = WebDriverWait(driver, 10).until(\n",
    "        EC.element_to_be_clickable((By.XPATH, '/html/body/div[6]/div[3]/div[4]/section/div/section/div/div/div/ul/li[4]/div/span/button')))\n",
    "Experience_level.click()\n",
    "time.sleep(1)\n",
    "\n",
    "Internship = WebDriverWait(driver, 10).until(\n",
    "        EC.element_to_be_clickable((By.XPATH, '/html/body/div[6]/div[3]/div[4]/section/div/section/div/div/div/ul/li[4]/div/div/div/div[1]/div/form/fieldset/div[1]/ul/li[1]/label/p/span[1]')))\n",
    "Internship.click()\n",
    "time.sleep(1)\n",
    "\n",
    "Validate2 = WebDriverWait(driver, 10).until(\n",
    "        EC.element_to_be_clickable((By.XPATH, '/html/body/div[6]/div[3]/div[4]/section/div/section/div/div/div/ul/li[4]/div/div/div/div[1]/div/form/fieldset/div[2]/button[2]')))\n",
    "Validate2.click()\n",
    "time.sleep(1)\n",
    "\n"
   ]
  },
  {
   "cell_type": "code",
   "execution_count": null,
   "metadata": {},
   "outputs": [],
   "source": [
    "#Among the offers click on relevant offers according to the skill set of the 1st years looking for an intership (to define togther, maybe ask Stephano)"
   ]
  }
 ],
 "metadata": {
  "kernelspec": {
   "display_name": "Python 3",
   "language": "python",
   "name": "python3"
  },
  "language_info": {
   "codemirror_mode": {
    "name": "ipython",
    "version": 3
   },
   "file_extension": ".py",
   "mimetype": "text/x-python",
   "name": "python",
   "nbconvert_exporter": "python",
   "pygments_lexer": "ipython3",
   "version": "3.11.5"
  }
 },
 "nbformat": 4,
 "nbformat_minor": 2
}
