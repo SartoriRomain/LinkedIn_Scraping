{
 "cells": [
  {
   "cell_type": "markdown",
   "metadata": {},
   "source": []
  },
  {
   "cell_type": "code",
   "execution_count": 1,
   "metadata": {},
   "outputs": [],
   "source": [
    "# import several packages\n",
    "import pandas as pd\n",
    "from bs4 import BeautifulSoup\n",
    "from tqdm import tqdm\n",
    "import requests\n",
    "import re\n",
    "import os\n",
    "import time\n",
    "from selenium import webdriver\n",
    "from selenium.webdriver.common.keys import Keys\n",
    "from selenium.webdriver.common.by import By\n"
   ]
  },
  {
   "cell_type": "code",
   "execution_count": 36,
   "metadata": {},
   "outputs": [],
   "source": [
    "from selenium.webdriver.support.ui import WebDriverWait\n",
    "from selenium.webdriver.support import expected_conditions as EC"
   ]
  },
  {
   "cell_type": "code",
   "execution_count": 17,
   "metadata": {},
   "outputs": [],
   "source": [
    "# choose one of the driver to your liking \n",
    "driver = webdriver.Chrome()\n",
    "#driver = webdriver.Edge()\n",
    "#driver = webdriver.Firefox()\n",
    "driver.get(\"https://www.linkedin.com/feed/\")\n",
    "\n",
    "#For windows users Edge is fine"
   ]
  },
  {
   "cell_type": "code",
   "execution_count": 18,
   "metadata": {},
   "outputs": [
    {
     "name": "stdout",
     "output_type": "stream",
     "text": [
      "Cookies acceptés.\n"
     ]
    }
   ],
   "source": [
    "#Accept cookies (if needed)\n",
    "try:\n",
    "    accept_cookies_button = driver.find_element(By.XPATH, '/html/body/div[1]/main/div[1]/div/section/div/div[2]/button[1]')\n",
    "    accept_cookies_button.click()\n",
    "    print(\"Cookies acceptés.\")\n",
    "except:\n",
    "    print(\"Le bouton pour accepter les cookies n'a pas été trouvé.\")\n"
   ]
  },
  {
   "cell_type": "code",
   "execution_count": 19,
   "metadata": {},
   "outputs": [],
   "source": [
    "#temporary account we created for the project\n",
    "#Copies password and username\n",
    "linkedin_username = 'frezard.poolo@gmail.com'\n",
    "linkedin_password = 'MasterDS2E'"
   ]
  },
  {
   "cell_type": "code",
   "execution_count": 20,
   "metadata": {},
   "outputs": [],
   "source": [
    "#Paste username and the password\n",
    "email_input = driver.find_element(By.ID, 'username')\n",
    "email_input.send_keys(linkedin_username)\n",
    "password_input = driver.find_element(By.ID, 'password')\n",
    "password_input.send_keys(linkedin_password)"
   ]
  },
  {
   "cell_type": "code",
   "execution_count": 21,
   "metadata": {},
   "outputs": [],
   "source": [
    "password_input.send_keys(Keys.RETURN)"
   ]
  },
  {
   "cell_type": "code",
   "execution_count": 22,
   "metadata": {},
   "outputs": [
    {
     "name": "stdout",
     "output_type": "stream",
     "text": [
      "Job done!\n"
     ]
    }
   ],
   "source": [
    "#click some other button\n",
    "try:\n",
    "    accept_cookies_button = driver.find_element(By.XPATH, '/html/body/div[5]/div[3]/div[2]/footer/div/div[1]/button')\n",
    "    accept_cookies_button.click()\n",
    "    print(\"Job done!\")\n",
    "except:\n",
    "    print(\"Wasn't needed\")"
   ]
  },
  {
   "cell_type": "code",
   "execution_count": 35,
   "metadata": {},
   "outputs": [
    {
     "ename": "ElementNotInteractableException",
     "evalue": "Message: element not interactable\n  (Session info: chrome=128.0.6613.120)\nStacktrace:\n\tGetHandleVerifier [0x00007FF75E8E9412+29090]\n\t(No symbol) [0x00007FF75E85E239]\n\t(No symbol) [0x00007FF75E71B009]\n\t(No symbol) [0x00007FF75E768843]\n\t(No symbol) [0x00007FF75E766A4B]\n\t(No symbol) [0x00007FF75E7966EA]\n\t(No symbol) [0x00007FF75E7626C6]\n\t(No symbol) [0x00007FF75E796900]\n\t(No symbol) [0x00007FF75E7B65A2]\n\t(No symbol) [0x00007FF75E796493]\n\t(No symbol) [0x00007FF75E7609D1]\n\t(No symbol) [0x00007FF75E761B31]\n\tGetHandleVerifier [0x00007FF75EC0871D+3302573]\n\tGetHandleVerifier [0x00007FF75EC54243+3612627]\n\tGetHandleVerifier [0x00007FF75EC4A417+3572135]\n\tGetHandleVerifier [0x00007FF75E9A5EB6+801862]\n\t(No symbol) [0x00007FF75E86945F]\n\t(No symbol) [0x00007FF75E864FB4]\n\t(No symbol) [0x00007FF75E865140]\n\t(No symbol) [0x00007FF75E85461F]\n\tBaseThreadInitThunk [0x00007FF9F508257D+29]\n\tRtlUserThreadStart [0x00007FF9F538AF28+40]\n",
     "output_type": "error",
     "traceback": [
      "\u001b[1;31m---------------------------------------------------------------------------\u001b[0m",
      "\u001b[1;31mElementNotInteractableException\u001b[0m           Traceback (most recent call last)",
      "Cell \u001b[1;32mIn[35], line 6\u001b[0m\n\u001b[0;32m      3\u001b[0m search_bar\u001b[38;5;241m.\u001b[39mclick()  \n\u001b[0;32m      5\u001b[0m search_query \u001b[38;5;241m=\u001b[39m \u001b[38;5;124m'\u001b[39m\u001b[38;5;124mData Scientist\u001b[39m\u001b[38;5;124m'\u001b[39m\n\u001b[1;32m----> 6\u001b[0m search_bar\u001b[38;5;241m.\u001b[39msend_keys(search_query)\n\u001b[0;32m      7\u001b[0m time\u001b[38;5;241m.\u001b[39msleep(\u001b[38;5;241m1\u001b[39m)\n\u001b[0;32m      8\u001b[0m search_bar\u001b[38;5;241m.\u001b[39msend_keys(Keys\u001b[38;5;241m.\u001b[39mRETURN)\n",
      "File \u001b[1;32mc:\\Users\\sarto\\anaconda3\\Lib\\site-packages\\selenium\\webdriver\\remote\\webelement.py:231\u001b[0m, in \u001b[0;36mWebElement.send_keys\u001b[1;34m(self, *value)\u001b[0m\n\u001b[0;32m    228\u001b[0m             remote_files\u001b[38;5;241m.\u001b[39mappend(\u001b[38;5;28mself\u001b[39m\u001b[38;5;241m.\u001b[39m_upload(file))\n\u001b[0;32m    229\u001b[0m         value \u001b[38;5;241m=\u001b[39m \u001b[38;5;124m\"\u001b[39m\u001b[38;5;130;01m\\n\u001b[39;00m\u001b[38;5;124m\"\u001b[39m\u001b[38;5;241m.\u001b[39mjoin(remote_files)\n\u001b[1;32m--> 231\u001b[0m \u001b[38;5;28mself\u001b[39m\u001b[38;5;241m.\u001b[39m_execute(\n\u001b[0;32m    232\u001b[0m     Command\u001b[38;5;241m.\u001b[39mSEND_KEYS_TO_ELEMENT, {\u001b[38;5;124m\"\u001b[39m\u001b[38;5;124mtext\u001b[39m\u001b[38;5;124m\"\u001b[39m: \u001b[38;5;124m\"\u001b[39m\u001b[38;5;124m\"\u001b[39m\u001b[38;5;241m.\u001b[39mjoin(keys_to_typing(value)), \u001b[38;5;124m\"\u001b[39m\u001b[38;5;124mvalue\u001b[39m\u001b[38;5;124m\"\u001b[39m: keys_to_typing(value)}\n\u001b[0;32m    233\u001b[0m )\n",
      "File \u001b[1;32mc:\\Users\\sarto\\anaconda3\\Lib\\site-packages\\selenium\\webdriver\\remote\\webelement.py:395\u001b[0m, in \u001b[0;36mWebElement._execute\u001b[1;34m(self, command, params)\u001b[0m\n\u001b[0;32m    393\u001b[0m     params \u001b[38;5;241m=\u001b[39m {}\n\u001b[0;32m    394\u001b[0m params[\u001b[38;5;124m\"\u001b[39m\u001b[38;5;124mid\u001b[39m\u001b[38;5;124m\"\u001b[39m] \u001b[38;5;241m=\u001b[39m \u001b[38;5;28mself\u001b[39m\u001b[38;5;241m.\u001b[39m_id\n\u001b[1;32m--> 395\u001b[0m \u001b[38;5;28;01mreturn\u001b[39;00m \u001b[38;5;28mself\u001b[39m\u001b[38;5;241m.\u001b[39m_parent\u001b[38;5;241m.\u001b[39mexecute(command, params)\n",
      "File \u001b[1;32mc:\\Users\\sarto\\anaconda3\\Lib\\site-packages\\selenium\\webdriver\\remote\\webdriver.py:354\u001b[0m, in \u001b[0;36mWebDriver.execute\u001b[1;34m(self, driver_command, params)\u001b[0m\n\u001b[0;32m    352\u001b[0m response \u001b[38;5;241m=\u001b[39m \u001b[38;5;28mself\u001b[39m\u001b[38;5;241m.\u001b[39mcommand_executor\u001b[38;5;241m.\u001b[39mexecute(driver_command, params)\n\u001b[0;32m    353\u001b[0m \u001b[38;5;28;01mif\u001b[39;00m response:\n\u001b[1;32m--> 354\u001b[0m     \u001b[38;5;28mself\u001b[39m\u001b[38;5;241m.\u001b[39merror_handler\u001b[38;5;241m.\u001b[39mcheck_response(response)\n\u001b[0;32m    355\u001b[0m     response[\u001b[38;5;124m\"\u001b[39m\u001b[38;5;124mvalue\u001b[39m\u001b[38;5;124m\"\u001b[39m] \u001b[38;5;241m=\u001b[39m \u001b[38;5;28mself\u001b[39m\u001b[38;5;241m.\u001b[39m_unwrap_value(response\u001b[38;5;241m.\u001b[39mget(\u001b[38;5;124m\"\u001b[39m\u001b[38;5;124mvalue\u001b[39m\u001b[38;5;124m\"\u001b[39m, \u001b[38;5;28;01mNone\u001b[39;00m))\n\u001b[0;32m    356\u001b[0m     \u001b[38;5;28;01mreturn\u001b[39;00m response\n",
      "File \u001b[1;32mc:\\Users\\sarto\\anaconda3\\Lib\\site-packages\\selenium\\webdriver\\remote\\errorhandler.py:229\u001b[0m, in \u001b[0;36mErrorHandler.check_response\u001b[1;34m(self, response)\u001b[0m\n\u001b[0;32m    227\u001b[0m         alert_text \u001b[38;5;241m=\u001b[39m value[\u001b[38;5;124m\"\u001b[39m\u001b[38;5;124malert\u001b[39m\u001b[38;5;124m\"\u001b[39m]\u001b[38;5;241m.\u001b[39mget(\u001b[38;5;124m\"\u001b[39m\u001b[38;5;124mtext\u001b[39m\u001b[38;5;124m\"\u001b[39m)\n\u001b[0;32m    228\u001b[0m     \u001b[38;5;28;01mraise\u001b[39;00m exception_class(message, screen, stacktrace, alert_text)  \u001b[38;5;66;03m# type: ignore[call-arg]  # mypy is not smart enough here\u001b[39;00m\n\u001b[1;32m--> 229\u001b[0m \u001b[38;5;28;01mraise\u001b[39;00m exception_class(message, screen, stacktrace)\n",
      "\u001b[1;31mElementNotInteractableException\u001b[0m: Message: element not interactable\n  (Session info: chrome=128.0.6613.120)\nStacktrace:\n\tGetHandleVerifier [0x00007FF75E8E9412+29090]\n\t(No symbol) [0x00007FF75E85E239]\n\t(No symbol) [0x00007FF75E71B009]\n\t(No symbol) [0x00007FF75E768843]\n\t(No symbol) [0x00007FF75E766A4B]\n\t(No symbol) [0x00007FF75E7966EA]\n\t(No symbol) [0x00007FF75E7626C6]\n\t(No symbol) [0x00007FF75E796900]\n\t(No symbol) [0x00007FF75E7B65A2]\n\t(No symbol) [0x00007FF75E796493]\n\t(No symbol) [0x00007FF75E7609D1]\n\t(No symbol) [0x00007FF75E761B31]\n\tGetHandleVerifier [0x00007FF75EC0871D+3302573]\n\tGetHandleVerifier [0x00007FF75EC54243+3612627]\n\tGetHandleVerifier [0x00007FF75EC4A417+3572135]\n\tGetHandleVerifier [0x00007FF75E9A5EB6+801862]\n\t(No symbol) [0x00007FF75E86945F]\n\t(No symbol) [0x00007FF75E864FB4]\n\t(No symbol) [0x00007FF75E865140]\n\t(No symbol) [0x00007FF75E85461F]\n\tBaseThreadInitThunk [0x00007FF9F508257D+29]\n\tRtlUserThreadStart [0x00007FF9F538AF28+40]\n"
     ]
    }
   ],
   "source": [
    "#Clicking on the search bar\n",
    "#search_bar = driver.find_element(By.CLASS_NAME, 'search-global-typeahead__input')\n",
    "search_bar = driver.find_element(By.XPATH, '/html/body/div[5]/header/div/div/div/button/span')\n",
    "search_bar.click()  \n",
    "\n",
    "#Searching for data science \n",
    "search_query = 'Data Scientist'\n",
    "search_bar.send_keys(search_query)\n",
    "time.sleep(1)\n",
    "search_bar.send_keys(Keys.RETURN)"
   ]
  }
 ],
 "metadata": {
  "kernelspec": {
   "display_name": "Python 3",
   "language": "python",
   "name": "python3"
  },
  "language_info": {
   "codemirror_mode": {
    "name": "ipython",
    "version": 3
   },
   "file_extension": ".py",
   "mimetype": "text/x-python",
   "name": "python",
   "nbconvert_exporter": "python",
   "pygments_lexer": "ipython3",
   "version": "3.11.5"
  }
 },
 "nbformat": 4,
 "nbformat_minor": 2
}
